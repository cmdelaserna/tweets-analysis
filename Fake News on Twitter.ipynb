{
 "cells": [
  {
   "cell_type": "markdown",
   "metadata": {},
   "source": [
    "# Trump - Fake News on twitter analysis\n",
    "- pending: adding all days missing in fake_news df to calculate frequency between tweets"
   ]
  },
  {
   "cell_type": "code",
   "execution_count": 118,
   "metadata": {},
   "outputs": [],
   "source": [
    "import pandas as pd\n",
    "import matplotlib.pyplot as plt\n",
    "import numpy as np\n",
    "import seaborn as sn"
   ]
  },
  {
   "cell_type": "code",
   "execution_count": 2,
   "metadata": {},
   "outputs": [],
   "source": [
    "plt.rcParams['figure.figsize'] = (20, 12)"
   ]
  },
  {
   "cell_type": "markdown",
   "metadata": {},
   "source": [
    "## Trump data"
   ]
  },
  {
   "cell_type": "code",
   "execution_count": 3,
   "metadata": {},
   "outputs": [],
   "source": [
    "# Using twitterscrape: 'twitterscraper from:RealDonaldTrump --output=trump.json'\n",
    "# old_trump = pd.read_json('data/old-trump.json')\n",
    "# print(old_trump.shape)\n",
    "# print(old_trump.columns)"
   ]
  },
  {
   "cell_type": "code",
   "execution_count": 202,
   "metadata": {},
   "outputs": [
    {
     "name": "stdout",
     "output_type": "stream",
     "text": [
      "(40301, 31)\n",
      "Index(['id', 'conversation_id', 'created_at', 'date', 'time', 'timezone',\n",
      "       'user_id', 'username', 'name', 'place', 'tweet', 'mentions', 'urls',\n",
      "       'photos', 'replies_count', 'retweets_count', 'likes_count', 'hashtags',\n",
      "       'cashtags', 'link', 'retweet', 'quote_url', 'video', 'near', 'geo',\n",
      "       'source', 'user_rt_id', 'user_rt', 'retweet_id', 'reply_to',\n",
      "       'retweet_date'],\n",
      "      dtype='object')\n"
     ]
    }
   ],
   "source": [
    "# Using twint: twint -u realDonaldTrump -o trump.json --json\n",
    "trump = pd.read_json('data/trump.json', lines=True)\n",
    "print(trump.shape)\n",
    "print(trump.columns)"
   ]
  },
  {
   "cell_type": "markdown",
   "metadata": {},
   "source": [
    "## Add missing dates"
   ]
  },
  {
   "cell_type": "code",
   "execution_count": 203,
   "metadata": {},
   "outputs": [
    {
     "name": "stdout",
     "output_type": "stream",
     "text": [
      "Days missing: 711\n"
     ]
    }
   ],
   "source": [
    "# Complete groupby function by adding missing days \n",
    "# https://stackoverflow.com/questions/55883057/python-fill-zeros-in-a-timeseries-dataframe\n",
    "\n",
    "# Check first for missing dates in the series\n",
    "dates = pd.date_range(start = fake_news.index.min(), end = fake_news.index.max()).difference(fake_news.index)\n",
    "print('Days missing: {}'.format(len(dates)))"
   ]
  },
  {
   "cell_type": "code",
   "execution_count": null,
   "metadata": {},
   "outputs": [],
   "source": [
    "# trump.index = pd.DatetimeIndex(trump.index)\n",
    "\n",
    "# https://stackoverflow.com/questions/19324453/add-missing-dates-to-pandas-dataframe"
   ]
  },
  {
   "cell_type": "markdown",
   "metadata": {},
   "source": [
    "## Functions"
   ]
  },
  {
   "cell_type": "code",
   "execution_count": 5,
   "metadata": {},
   "outputs": [],
   "source": [
    "data_sources = [trump]"
   ]
  },
  {
   "cell_type": "code",
   "execution_count": 6,
   "metadata": {},
   "outputs": [],
   "source": [
    "#Make text for twitter lowercase to search for matching expressions\n",
    "\n",
    "for sources in data_sources:\n",
    "    sources['text_lower'] = sources.tweet.str.lower()"
   ]
  },
  {
   "cell_type": "markdown",
   "metadata": {},
   "source": [
    "#### Count all fake news expressions"
   ]
  },
  {
   "cell_type": "code",
   "execution_count": 7,
   "metadata": {},
   "outputs": [],
   "source": [
    "# Find given expressions in tweets\n",
    "\n",
    "def fake_news_mentions(data, match = []):\n",
    "        \n",
    "    #find patterns\n",
    "    for i in match:\n",
    "        data[i] = data['text_lower'].str.contains(i)\n",
    "\n",
    "    # Convert True/False values to 0/1\n",
    "    data[match] = data[match].astype('int32')\n",
    "        \n",
    "    # Create column with fake_news label\n",
    "    data['total_fake_news_mention'] = data[match].sum(axis=1)\n",
    "    data['label'] = np.where(data['total_fake_news_mention']>0, 1, 0)\n",
    "    \n",
    "    # Summary messages\n",
    "    print('Total fake_news labels: {}'.format(data.label.sum()))\n",
    "    print('Media mentions: {}'.format(len(data[data['text_lower'].str.contains('media')])))\n"
   ]
  },
  {
   "cell_type": "markdown",
   "metadata": {},
   "source": [
    "#### Aggregate tweets by day, data summary, plot"
   ]
  },
  {
   "cell_type": "code",
   "execution_count": 9,
   "metadata": {},
   "outputs": [],
   "source": [
    "\n",
    "def aggregate_tweets_day(data, title_vis):\n",
    "    \n",
    "    global fake_news\n",
    "    \n",
    "    # Group data by date\n",
    "    d = {'created_at':'tweets_per_day'}\n",
    "    new_df = data.groupby(data.created_at.dt.date).\\\n",
    "        agg({'created_at':'count', 'label':'sum'}).rename(columns=d)\n",
    "    \n",
    "    # Create new df including only tweets with expressions \n",
    "    fake_news = new_df[new_df['label'] > 0]\n",
    "    \n",
    "    # Calculate tweet frequency. Pending: add missing days\n",
    "    res = fake_news.index.to_series().diff()\n",
    "    \n",
    "    # Scatter plot\n",
    "    fake_news.plot(style='o', alpha = 0.5)\n",
    "    plt.title(title_vis)\n",
    "\n",
    "    # Summary messages\n",
    "    print('- Total number of fake_news tweets: {}'.format(fake_news.label.sum()))\n",
    "    print('- First fake_news tweet: {}'.format(fake_news.index.min()))\n",
    "    print('- Last tweet: {}'.format(fake_news.index.max()))\n",
    "    print('- Average frequency: {}'.format(res.mean()))\n",
    "    \n",
    "    "
   ]
  },
  {
   "cell_type": "markdown",
   "metadata": {},
   "source": [
    "## Trump"
   ]
  },
  {
   "cell_type": "code",
   "execution_count": 11,
   "metadata": {},
   "outputs": [
    {
     "name": "stdout",
     "output_type": "stream",
     "text": [
      "Total fake_news labels: 570\n",
      "Media mentions: 1007\n"
     ]
    }
   ],
   "source": [
    "trump_expressions = ['fake news', 'false news', 'fake media', 'falsenews', 'fakemedia', 'enemy of the people']\n",
    "fake_news_mentions(trump, trump_expressions)"
   ]
  },
  {
   "cell_type": "code",
   "execution_count": 13,
   "metadata": {},
   "outputs": [
    {
     "name": "stdout",
     "output_type": "stream",
     "text": [
      "- Total number of fake_news tweets: 570\n",
      "- First fake_news tweet: 2016-11-16\n",
      "- Last tweet: 2019-11-11\n",
      "- Average frequency: 2 days 21:01:25.488126\n"
     ]
    },
    {
     "data": {
      "image/png": "[encoded data removed]",
      "text/plain": [
       "<Figure size 1440x864 with 1 Axes>"
      ]
     },
     "metadata": {
      "needs_background": "light"
     },
     "output_type": "display_data"
    }
   ],
   "source": [
    "aggregate_tweets_day(trump, \"Trump fake news tweets\")"
   ]
  },
  {
   "cell_type": "markdown",
   "metadata": {},
   "source": [
    "## Group data by week"
   ]
  },
  {
   "cell_type": "code",
   "execution_count": 19,
   "metadata": {},
   "outputs": [],
   "source": [
    "# Aggregate data by week\n",
    "trump['week'] = pd.to_datetime(trump['date']) - pd.to_timedelta(7, unit='d')\n"
   ]
  },
  {
   "cell_type": "code",
   "execution_count": 151,
   "metadata": {},
   "outputs": [
    {
     "data": {
      "text/html": [
       "<div>\n",
       "<style scoped>\n",
       "    .dataframe tbody tr th:only-of-type {\n",
       "        vertical-align: middle;\n",
       "    }\n",
       "\n",
       "    .dataframe tbody tr th {\n",
       "        vertical-align: top;\n",
       "    }\n",
       "\n",
       "    .dataframe thead th {\n",
       "        text-align: right;\n",
       "    }\n",
       "</style>\n",
       "<table border=\"1\" class=\"dataframe\">\n",
       "  <thead>\n",
       "    <tr style=\"text-align: right;\">\n",
       "      <th></th>\n",
       "      <th>week</th>\n",
       "      <th>label</th>\n",
       "      <th>id</th>\n",
       "    </tr>\n",
       "  </thead>\n",
       "  <tbody>\n",
       "    <tr>\n",
       "      <th>0</th>\n",
       "      <td>2009-04-27</td>\n",
       "      <td>0</td>\n",
       "      <td>2</td>\n",
       "    </tr>\n",
       "    <tr>\n",
       "      <th>1</th>\n",
       "      <td>2009-05-04</td>\n",
       "      <td>0</td>\n",
       "      <td>2</td>\n",
       "    </tr>\n",
       "    <tr>\n",
       "      <th>2</th>\n",
       "      <td>2009-05-11</td>\n",
       "      <td>0</td>\n",
       "      <td>8</td>\n",
       "    </tr>\n",
       "    <tr>\n",
       "      <th>3</th>\n",
       "      <td>2009-05-18</td>\n",
       "      <td>0</td>\n",
       "      <td>6</td>\n",
       "    </tr>\n",
       "    <tr>\n",
       "      <th>4</th>\n",
       "      <td>2009-05-25</td>\n",
       "      <td>0</td>\n",
       "      <td>3</td>\n",
       "    </tr>\n",
       "  </tbody>\n",
       "</table>\n",
       "</div>"
      ],
      "text/plain": [
       "        week  label  id\n",
       "0 2009-04-27      0   2\n",
       "1 2009-05-04      0   2\n",
       "2 2009-05-11      0   8\n",
       "3 2009-05-18      0   6\n",
       "4 2009-05-25      0   3"
      ]
     },
     "execution_count": 151,
     "metadata": {},
     "output_type": "execute_result"
    }
   ],
   "source": [
    "df = trump.groupby([pd.Grouper(key='week', freq='W-MON')])\\\n",
    "        .agg({'label':'sum', 'id':'count'}).reset_index().sort_values('week')\n",
    "\n",
    "df.head()"
   ]
  },
  {
   "cell_type": "code",
   "execution_count": 169,
   "metadata": {},
   "outputs": [
    {
     "data": {
      "text/html": [
       "<div>\n",
       "<style scoped>\n",
       "    .dataframe tbody tr th:only-of-type {\n",
       "        vertical-align: middle;\n",
       "    }\n",
       "\n",
       "    .dataframe tbody tr th {\n",
       "        vertical-align: top;\n",
       "    }\n",
       "\n",
       "    .dataframe thead th {\n",
       "        text-align: right;\n",
       "    }\n",
       "</style>\n",
       "<table border=\"1\" class=\"dataframe\">\n",
       "  <thead>\n",
       "    <tr style=\"text-align: right;\">\n",
       "      <th></th>\n",
       "      <th>week</th>\n",
       "      <th>label</th>\n",
       "      <th>id</th>\n",
       "      <th>fake_news</th>\n",
       "      <th>all_records</th>\n",
       "    </tr>\n",
       "  </thead>\n",
       "  <tbody>\n",
       "    <tr>\n",
       "      <th>0</th>\n",
       "      <td>2009-04-27</td>\n",
       "      <td>0</td>\n",
       "      <td>2</td>\n",
       "      <td>0</td>\n",
       "      <td>1</td>\n",
       "    </tr>\n",
       "    <tr>\n",
       "      <th>1</th>\n",
       "      <td>2009-05-04</td>\n",
       "      <td>0</td>\n",
       "      <td>2</td>\n",
       "      <td>0</td>\n",
       "      <td>1</td>\n",
       "    </tr>\n",
       "    <tr>\n",
       "      <th>2</th>\n",
       "      <td>2009-05-11</td>\n",
       "      <td>0</td>\n",
       "      <td>8</td>\n",
       "      <td>0</td>\n",
       "      <td>1</td>\n",
       "    </tr>\n",
       "    <tr>\n",
       "      <th>3</th>\n",
       "      <td>2009-05-18</td>\n",
       "      <td>0</td>\n",
       "      <td>6</td>\n",
       "      <td>0</td>\n",
       "      <td>1</td>\n",
       "    </tr>\n",
       "    <tr>\n",
       "      <th>4</th>\n",
       "      <td>2009-05-25</td>\n",
       "      <td>0</td>\n",
       "      <td>3</td>\n",
       "      <td>0</td>\n",
       "      <td>1</td>\n",
       "    </tr>\n",
       "  </tbody>\n",
       "</table>\n",
       "</div>"
      ],
      "text/plain": [
       "        week  label  id  fake_news  all_records\n",
       "0 2009-04-27      0   2          0            1\n",
       "1 2009-05-04      0   2          0            1\n",
       "2 2009-05-11      0   8          0            1\n",
       "3 2009-05-18      0   6          0            1\n",
       "4 2009-05-25      0   3          0            1"
      ]
     },
     "execution_count": 169,
     "metadata": {},
     "output_type": "execute_result"
    }
   ],
   "source": [
    "# Create new df including only tweets with expressions \n",
    "df['fake_news'] = np.where(df['label'] > 0, 1, 0)\n",
    "df['all_records'] = 1\n",
    "df.head()"
   ]
  },
  {
   "cell_type": "code",
   "execution_count": 172,
   "metadata": {},
   "outputs": [
    {
     "data": {
      "text/plain": [
       "20.0"
      ]
     },
     "execution_count": 172,
     "metadata": {},
     "output_type": "execute_result"
    }
   ],
   "source": [
    "plt.rcParams['figure.figsize'][0]"
   ]
  },
  {
   "cell_type": "code",
   "execution_count": 204,
   "metadata": {},
   "outputs": [
    {
     "name": "stdout",
     "output_type": "stream",
     "text": [
      "Number of weeks with fake_news tweets: 137\n"
     ]
    },
    {
     "data": {
      "image/png": "[encoded data removed]",
      "text/plain": [
       "<Figure size 1440x864 with 1 Axes>"
      ]
     },
     "metadata": {
      "needs_background": "light"
     },
     "output_type": "display_data"
    }
   ],
   "source": [
    "# bar width \n",
    "spacing = 25\n",
    "wplot = len(df.week)/(plt.rcParams['figure.figsize'][0])-spacing\n",
    "\n",
    "#plot\n",
    "plt.bar(df.week, df.all_records, width = wplot, color = 'lightgray', alpha = 0.3)\n",
    "plt.bar(df.week, df.fake_news, width = wplot)\n",
    "plt.title(\"Tweets per week. In blue: weeks mentioning fake news\")\n",
    "\n",
    "print('Number of weeks with fake_news tweets: {}'.format(df.fake_news.sum()))"
   ]
  },
  {
   "cell_type": "code",
   "execution_count": null,
   "metadata": {},
   "outputs": [],
   "source": []
  },
  {
   "cell_type": "code",
   "execution_count": null,
   "metadata": {},
   "outputs": [],
   "source": []
  },
  {
   "cell_type": "code",
   "execution_count": null,
   "metadata": {},
   "outputs": [],
   "source": []
  }
 ],
 "metadata": {
  "kernelspec": {
   "display_name": "Python 3",
   "language": "python",
   "name": "python3"
  },
  "language_info": {
   "codemirror_mode": {
    "name": "ipython",
    "version": 3
   },
   "file_extension": ".py",
   "mimetype": "text/x-python",
   "name": "python",
   "nbconvert_exporter": "python",
   "pygments_lexer": "ipython3",
   "version": "3.7.0"
  }
 },
 "nbformat": 4,
 "nbformat_minor": 2
}
