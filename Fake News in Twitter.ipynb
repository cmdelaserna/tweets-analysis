{
 "cells": [
  {
   "cell_type": "code",
   "execution_count": 1,
   "metadata": {},
   "outputs": [],
   "source": [
    "import pandas as pd\n",
    "import matplotlib.pyplot as plt\n",
    "import numpy as np"
   ]
  },
  {
   "cell_type": "code",
   "execution_count": 2,
   "metadata": {},
   "outputs": [],
   "source": [
    "plt.rcParams['figure.figsize'] = (20, 12)"
   ]
  },
  {
   "cell_type": "markdown",
   "metadata": {},
   "source": [
    "## Trump data\n"
   ]
  },
  {
   "cell_type": "code",
   "execution_count": 11,
   "metadata": {},
   "outputs": [],
   "source": [
    "# Source: 'twitterscraper from:RealDonaldTrump --output=trump.json'\n",
    "trump = pd.read_json('data/trump.json')\n"
   ]
  },
  {
   "cell_type": "code",
   "execution_count": 4,
   "metadata": {},
   "outputs": [
    {
     "data": {
      "text/plain": [
       "(38397, 21)"
      ]
     },
     "execution_count": 4,
     "metadata": {},
     "output_type": "execute_result"
    }
   ],
   "source": [
    "trump.shape"
   ]
  },
  {
   "cell_type": "code",
   "execution_count": 12,
   "metadata": {},
   "outputs": [
    {
     "data": {
      "text/plain": [
       "Index(['has_media', 'hashtags', 'img_urls', 'is_replied', 'is_reply_to',\n",
       "       'likes', 'links', 'parent_tweet_id', 'replies', 'reply_to_users',\n",
       "       'retweets', 'screen_name', 'text', 'text_html', 'timestamp',\n",
       "       'timestamp_epochs', 'tweet_id', 'tweet_url', 'user_id', 'username',\n",
       "       'video_url'],\n",
       "      dtype='object')"
      ]
     },
     "execution_count": 12,
     "metadata": {},
     "output_type": "execute_result"
    }
   ],
   "source": [
    "trump.columns"
   ]
  },
  {
   "cell_type": "markdown",
   "metadata": {},
   "source": [
    "## Bolsonaro data "
   ]
  },
  {
   "cell_type": "code",
   "execution_count": null,
   "metadata": {},
   "outputs": [],
   "source": [
    "# Source: 'twitterscraper from:@jairbolsonaro --output=bolsonaro.json'\n",
    "trump = pd.read_json('data/trump.json')\n"
   ]
  },
  {
   "cell_type": "markdown",
   "metadata": {},
   "source": [
    "## Functions"
   ]
  },
  {
   "cell_type": "code",
   "execution_count": 6,
   "metadata": {},
   "outputs": [],
   "source": [
    "#Make text for twitter lowercase to search for matching expressions\n",
    "trump['text_lower'] = trump.text.str.lower()"
   ]
  },
  {
   "cell_type": "markdown",
   "metadata": {},
   "source": [
    "#### Count all fake news expressions"
   ]
  },
  {
   "cell_type": "code",
   "execution_count": 7,
   "metadata": {},
   "outputs": [],
   "source": [
    "\n",
    "def fake_news_mentions(data, match = []):\n",
    "    #find patterns\n",
    "    for i in match:\n",
    "        data[i] = data['text_lower'].str.contains(i)\n",
    "\n",
    "    # Convert True/False values to 0/1\n",
    "    data[match] = data[match].astype('int32')\n",
    "        \n",
    "    # Create column with total fake_news\n",
    "    data['fake_news_mention'] = data[match].sum(axis=1)\n",
    "    print('Total fake_news labels: {}\\n'.format(data.fake_news_mention.sum()))\n",
    "    \n",
    "    # Print value counts for expressions\n",
    "    for i in match:\n",
    "        print('{}\\n'.format(data[i].value_counts()))\n"
   ]
  },
  {
   "cell_type": "markdown",
   "metadata": {},
   "source": [
    "#### Aggregate tweets by day, vis & basic summary"
   ]
  },
  {
   "cell_type": "code",
   "execution_count": 8,
   "metadata": {},
   "outputs": [],
   "source": [
    "\n",
    "def aggregate_tweets_day(data, title_vis):\n",
    "    \n",
    "    global fake_news\n",
    "    \n",
    "    d = {'timestamp':'tweets_per_day'}\n",
    "    new_df = data.groupby(data.timestamp.dt.date).\\\n",
    "    agg({'timestamp':'count', 'fake_news_mention':'sum'}).rename(columns=d)\n",
    "    \n",
    "    fake_news = new_df[new_df['fake_news_mention'] > 0]\n",
    "    fake_news.plot(style='o', alpha = 0.5)\n",
    "    \n",
    "    plt.title(title_vis)\n",
    "    \n",
    "    print('- Total tweets mentioning fake news expressions between {}-{}: {}'.\\\n",
    "          format(data.timestamp.min(), data.timestamp.max(),fake_news.fake_news_mention.sum()))\n",
    "    print('- First tweet: {}'.format(fake_news.index.min()))\n",
    "    print('- Last tweet: {}'.format(fake_news.index.max()))\n",
    "    \n",
    "    res = (pd.Series(fake_news.index[1:]) - pd.Series(fake_news.index[:-1])).value_counts()\n",
    "    print('- Average frequency: {0:.2f} days'.format(res.mean()))\n",
    "    \n",
    "    "
   ]
  },
  {
   "cell_type": "markdown",
   "metadata": {},
   "source": [
    "## Trump"
   ]
  },
  {
   "cell_type": "code",
   "execution_count": 9,
   "metadata": {},
   "outputs": [
    {
     "name": "stdout",
     "output_type": "stream",
     "text": [
      "Total fake_news labels: 562\n",
      "\n",
      "0    37885\n",
      "1      512\n",
      "Name: fake news, dtype: int64\n",
      "\n",
      "0    38396\n",
      "1        1\n",
      "Name: false news, dtype: int64\n",
      "\n",
      "0    38379\n",
      "1       18\n",
      "Name: fake media, dtype: int64\n",
      "\n",
      "0    38397\n",
      "Name: falsenews, dtype: int64\n",
      "\n",
      "0    38397\n",
      "Name: fakemedia, dtype: int64\n",
      "\n",
      "0    38366\n",
      "1       31\n",
      "Name: enemy of the people, dtype: int64\n",
      "\n"
     ]
    }
   ],
   "source": [
    "trump_expressions = ['fake news', 'false news', 'fake media', 'falsenews', 'fakemedia', 'enemy of the people']\n",
    "fake_news_mentions(trump, trump_expressions)"
   ]
  },
  {
   "cell_type": "code",
   "execution_count": 10,
   "metadata": {},
   "outputs": [
    {
     "name": "stdout",
     "output_type": "stream",
     "text": [
      "- Total tweets mentioning fake news expressions between 2009-05-04 18:54:25-2019-11-11 23:58:14: 562\n",
      "- First tweet: 2016-11-16\n",
      "- Last tweet: 2019-11-11\n",
      "- Average frequency: 19.42 days\n"
     ]
    },
    {
     "data": {
      "image/png": "[encoded data removed]",
      "text/plain": [
       "<Figure size 1440x864 with 1 Axes>"
      ]
     },
     "metadata": {
      "needs_background": "light"
     },
     "output_type": "display_data"
    }
   ],
   "source": [
    "aggregate_tweets_day(trump, \"Trump fake news tweets\")"
   ]
  }
 ],
 "metadata": {
  "kernelspec": {
   "display_name": "Python 3",
   "language": "python",
   "name": "python3"
  },
  "language_info": {
   "codemirror_mode": {
    "name": "ipython",
    "version": 3
   },
   "file_extension": ".py",
   "mimetype": "text/x-python",
   "name": "python",
   "nbconvert_exporter": "python",
   "pygments_lexer": "ipython3",
   "version": "3.7.0"
  }
 },
 "nbformat": 4,
 "nbformat_minor": 2
}
