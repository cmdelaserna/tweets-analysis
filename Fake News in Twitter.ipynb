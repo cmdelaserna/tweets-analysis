{
 "cells": [
  {
   "cell_type": "code",
   "execution_count": 1,
   "metadata": {},
   "outputs": [],
   "source": [
    "import pandas as pd\n",
    "import matplotlib.pyplot as plt\n",
    "import numpy as np"
   ]
  },
  {
   "cell_type": "code",
   "execution_count": 2,
   "metadata": {},
   "outputs": [],
   "source": [
    "plt.rcParams['figure.figsize'] = (20, 12)"
   ]
  },
  {
   "cell_type": "markdown",
   "metadata": {},
   "source": [
    "## Trump data"
   ]
  },
  {
   "cell_type": "code",
   "execution_count": 3,
   "metadata": {},
   "outputs": [
    {
     "name": "stdout",
     "output_type": "stream",
     "text": [
      "(38397, 21)\n",
      "Index(['has_media', 'hashtags', 'img_urls', 'is_replied', 'is_reply_to',\n",
      "       'likes', 'links', 'parent_tweet_id', 'replies', 'reply_to_users',\n",
      "       'retweets', 'screen_name', 'text', 'text_html', 'timestamp',\n",
      "       'timestamp_epochs', 'tweet_id', 'tweet_url', 'user_id', 'username',\n",
      "       'video_url'],\n",
      "      dtype='object')\n"
     ]
    }
   ],
   "source": [
    "# Using twitterscrape: 'twitterscraper from:RealDonaldTrump --output=trump.json'\n",
    "old_trump = pd.read_json('data/old-trump.json')\n",
    "print(old_trump.shape)\n",
    "print(old_trump.columns)"
   ]
  },
  {
   "cell_type": "code",
   "execution_count": 4,
   "metadata": {},
   "outputs": [],
   "source": [
    "# Using twint: twint -u realDonaldTrump -o trump.json --json\n",
    "trump = pd.read_json('data/trump.json', lines=True)"
   ]
  },
  {
   "cell_type": "code",
   "execution_count": 5,
   "metadata": {},
   "outputs": [
    {
     "name": "stdout",
     "output_type": "stream",
     "text": [
      "(40301, 31)\n",
      "Index(['id', 'conversation_id', 'created_at', 'date', 'time', 'timezone',\n",
      "       'user_id', 'username', 'name', 'place', 'tweet', 'mentions', 'urls',\n",
      "       'photos', 'replies_count', 'retweets_count', 'likes_count', 'hashtags',\n",
      "       'cashtags', 'link', 'retweet', 'quote_url', 'video', 'near', 'geo',\n",
      "       'source', 'user_rt_id', 'user_rt', 'retweet_id', 'reply_to',\n",
      "       'retweet_date'],\n",
      "      dtype='object')\n"
     ]
    }
   ],
   "source": [
    "print(trump.shape)\n",
    "print(trump.columns)"
   ]
  },
  {
   "cell_type": "code",
   "execution_count": 9,
   "metadata": {},
   "outputs": [
    {
     "data": {
      "text/plain": [
       "0                           pic.twitter.com/FJ8gMdh5bX\n",
       "1                                 READ THE TRANSCRIPT!\n",
       "2                                      NEVER TRUMPERS!\n",
       "3    ....any laws or did anything wrong, and they h...\n",
       "4    ...the most powerful tool the legislative bran...\n",
       "Name: tweet, dtype: object"
      ]
     },
     "execution_count": 9,
     "metadata": {},
     "output_type": "execute_result"
    }
   ],
   "source": [
    "trump['tweet'].head()"
   ]
  },
  {
   "cell_type": "code",
   "execution_count": 13,
   "metadata": {},
   "outputs": [
    {
     "data": {
      "text/plain": [
       "0   2019-11-13 16:50:37\n",
       "1   2019-11-13 13:30:55\n",
       "2   2019-11-13 13:30:31\n",
       "3   2019-11-13 13:18:10\n",
       "4   2019-11-13 13:18:08\n",
       "Name: created_at, dtype: datetime64[ns]"
      ]
     },
     "execution_count": 13,
     "metadata": {},
     "output_type": "execute_result"
    }
   ],
   "source": [
    "trump['created_at'].head()"
   ]
  },
  {
   "cell_type": "code",
   "execution_count": 8,
   "metadata": {},
   "outputs": [
    {
     "name": "stdout",
     "output_type": "stream",
     "text": [
      "<class 'pandas.core.frame.DataFrame'>\n",
      "RangeIndex: 40301 entries, 0 to 40300\n",
      "Data columns (total 31 columns):\n",
      "id                 40301 non-null int64\n",
      "conversation_id    40301 non-null int64\n",
      "created_at         40301 non-null datetime64[ns]\n",
      "date               40301 non-null datetime64[ns]\n",
      "time               40301 non-null object\n",
      "timezone           40301 non-null object\n",
      "user_id            40301 non-null int64\n",
      "username           40301 non-null object\n",
      "name               40301 non-null object\n",
      "place              40301 non-null object\n",
      "tweet              40301 non-null object\n",
      "mentions           40301 non-null object\n",
      "urls               40301 non-null object\n",
      "photos             40301 non-null object\n",
      "replies_count      40301 non-null int64\n",
      "retweets_count     40301 non-null int64\n",
      "likes_count        40301 non-null int64\n",
      "hashtags           40301 non-null object\n",
      "cashtags           40301 non-null object\n",
      "link               40301 non-null object\n",
      "retweet            40301 non-null bool\n",
      "quote_url          40301 non-null object\n",
      "video              40301 non-null int64\n",
      "near               40301 non-null object\n",
      "geo                40301 non-null object\n",
      "source             40301 non-null object\n",
      "user_rt_id         40301 non-null object\n",
      "user_rt            40301 non-null object\n",
      "retweet_id         40301 non-null object\n",
      "reply_to           40301 non-null object\n",
      "retweet_date       40301 non-null object\n",
      "dtypes: bool(1), datetime64[ns](2), int64(7), object(21)\n",
      "memory usage: 9.3+ MB\n"
     ]
    }
   ],
   "source": [
    "trump.info()"
   ]
  },
  {
   "cell_type": "markdown",
   "metadata": {},
   "source": [
    "## Bolsonaro data "
   ]
  },
  {
   "cell_type": "code",
   "execution_count": null,
   "metadata": {},
   "outputs": [],
   "source": [
    "# Source: 'twint -u jairbolsonaro -o bolsonaro.json --json'\n",
    "bolsonaro = pd.read_json('data/bolsonaro.json')\n"
   ]
  },
  {
   "cell_type": "code",
   "execution_count": null,
   "metadata": {},
   "outputs": [],
   "source": [
    "bolsonaro.shape"
   ]
  },
  {
   "cell_type": "code",
   "execution_count": null,
   "metadata": {},
   "outputs": [],
   "source": []
  },
  {
   "cell_type": "markdown",
   "metadata": {},
   "source": [
    "## Functions"
   ]
  },
  {
   "cell_type": "code",
   "execution_count": 11,
   "metadata": {},
   "outputs": [],
   "source": [
    "#Make text for twitter lowercase to search for matching expressions\n",
    "trump['text_lower'] = trump.tweet.str.lower()"
   ]
  },
  {
   "cell_type": "markdown",
   "metadata": {},
   "source": [
    "#### Count all fake news expressions"
   ]
  },
  {
   "cell_type": "code",
   "execution_count": 14,
   "metadata": {},
   "outputs": [],
   "source": [
    "\n",
    "def fake_news_mentions(data, match = []):\n",
    "    #find patterns\n",
    "    for i in match:\n",
    "        data[i] = data['text_lower'].str.contains(i)\n",
    "\n",
    "    # Convert True/False values to 0/1\n",
    "    data[match] = data[match].astype('int32')\n",
    "        \n",
    "    # Create column with total fake_news\n",
    "    data['fake_news_mention'] = data[match].sum(axis=1)\n",
    "    print('Total fake_news labels: {}\\n'.format(data.fake_news_mention.sum()))\n",
    "    \n",
    "    # Print value counts for expressions\n",
    "    for i in match:\n",
    "        print('{}\\n'.format(data[i].value_counts()))\n"
   ]
  },
  {
   "cell_type": "markdown",
   "metadata": {},
   "source": [
    "#### Aggregate tweets by day, vis & basic summary"
   ]
  },
  {
   "cell_type": "code",
   "execution_count": 20,
   "metadata": {},
   "outputs": [],
   "source": [
    "\n",
    "def aggregate_tweets_day(data, title_vis):\n",
    "    \n",
    "    global fake_news\n",
    "    \n",
    "    d = {'timestamp':'tweets_per_day'}\n",
    "    new_df = data.groupby(data.created_at.dt.date).\\\n",
    "    agg({'created_at':'count', 'fake_news_mention':'sum'}).rename(columns=d)\n",
    "    \n",
    "    fake_news = new_df[new_df['fake_news_mention'] > 0]\n",
    "    fake_news.plot(style='o', alpha = 0.5)\n",
    "    \n",
    "    plt.title(title_vis)\n",
    "    \n",
    "    print('- Total tweets mentioning fake news expressions between {}-{}: {}'.\\\n",
    "          format(data.date.min(), data.date.max(),fake_news.fake_news_mention.sum()))\n",
    "    print('- First tweet: {}'.format(fake_news.index.min()))\n",
    "    print('- Last tweet: {}'.format(fake_news.index.max()))\n",
    "    \n",
    "    res = (pd.Series(fake_news.index[1:]) - pd.Series(fake_news.index[:-1])).value_counts()\n",
    "    print('- Average frequency: {0:.2f} days'.format(res.mean()))\n",
    "    \n",
    "    "
   ]
  },
  {
   "cell_type": "markdown",
   "metadata": {},
   "source": [
    "## Trump"
   ]
  },
  {
   "cell_type": "code",
   "execution_count": 21,
   "metadata": {},
   "outputs": [
    {
     "name": "stdout",
     "output_type": "stream",
     "text": [
      "Total fake_news labels: 592\n",
      "\n",
      "0    39763\n",
      "1      538\n",
      "Name: fake news, dtype: int64\n",
      "\n",
      "0    40300\n",
      "1        1\n",
      "Name: false news, dtype: int64\n",
      "\n",
      "0    40284\n",
      "1       17\n",
      "Name: fake media, dtype: int64\n",
      "\n",
      "0    40301\n",
      "Name: falsenews, dtype: int64\n",
      "\n",
      "0    40301\n",
      "Name: fakemedia, dtype: int64\n",
      "\n",
      "0    40265\n",
      "1       36\n",
      "Name: enemy of the people, dtype: int64\n",
      "\n"
     ]
    }
   ],
   "source": [
    "trump_expressions = ['fake news', 'false news', 'fake media', 'falsenews', 'fakemedia', 'enemy of the people']\n",
    "fake_news_mentions(trump, trump_expressions)"
   ]
  },
  {
   "cell_type": "code",
   "execution_count": 22,
   "metadata": {},
   "outputs": [
    {
     "name": "stdout",
     "output_type": "stream",
     "text": [
      "- Total tweets mentioning fake news expressions between 2009-05-04 00:00:00-2019-11-13 00:00:00: 592\n",
      "- First tweet: 2016-11-16\n",
      "- Last tweet: 2019-11-11\n",
      "- Average frequency: 19.95 days\n"
     ]
    },
    {
     "data": {
      "image/png": "[encoded data removed]",
      "text/plain": [
       "<Figure size 1440x864 with 1 Axes>"
      ]
     },
     "metadata": {
      "needs_background": "light"
     },
     "output_type": "display_data"
    }
   ],
   "source": [
    "aggregate_tweets_day(trump, \"Trump fake news tweets\")"
   ]
  },
  {
   "cell_type": "code",
   "execution_count": null,
   "metadata": {},
   "outputs": [],
   "source": []
  }
 ],
 "metadata": {
  "kernelspec": {
   "display_name": "Python 3",
   "language": "python",
   "name": "python3"
  },
  "language_info": {
   "codemirror_mode": {
    "name": "ipython",
    "version": 3
   },
   "file_extension": ".py",
   "mimetype": "text/x-python",
   "name": "python",
   "nbconvert_exporter": "python",
   "pygments_lexer": "ipython3",
   "version": "3.7.0"
  }
 },
 "nbformat": 4,
 "nbformat_minor": 2
}
