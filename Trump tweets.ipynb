{
 "cells": [
  {
   "cell_type": "code",
   "execution_count": 1,
   "metadata": {},
   "outputs": [],
   "source": [
    "import pandas as pd\n",
    "import matplotlib.pyplot as plt\n",
    "import numpy as np\n",
    "import seaborn as sns"
   ]
  },
  {
   "cell_type": "code",
   "execution_count": 2,
   "metadata": {},
   "outputs": [],
   "source": [
    "plt.rcParams['figure.figsize'] = (20, 12)"
   ]
  },
  {
   "cell_type": "markdown",
   "metadata": {},
   "source": [
    "## Import data"
   ]
  },
  {
   "cell_type": "code",
   "execution_count": 3,
   "metadata": {},
   "outputs": [],
   "source": [
    "trump = pd.read_json('data/trump.json')"
   ]
  },
  {
   "cell_type": "code",
   "execution_count": 4,
   "metadata": {},
   "outputs": [
    {
     "data": {
      "text/plain": [
       "(38397, 21)"
      ]
     },
     "execution_count": 4,
     "metadata": {},
     "output_type": "execute_result"
    }
   ],
   "source": [
    "trump.shape"
   ]
  },
  {
   "cell_type": "code",
   "execution_count": 5,
   "metadata": {},
   "outputs": [
    {
     "data": {
      "text/plain": [
       "Index(['has_media', 'hashtags', 'img_urls', 'is_replied', 'is_reply_to',\n",
       "       'likes', 'links', 'parent_tweet_id', 'replies', 'reply_to_users',\n",
       "       'retweets', 'screen_name', 'text', 'text_html', 'timestamp',\n",
       "       'timestamp_epochs', 'tweet_id', 'tweet_url', 'user_id', 'username',\n",
       "       'video_url'],\n",
       "      dtype='object')"
      ]
     },
     "execution_count": 5,
     "metadata": {},
     "output_type": "execute_result"
    }
   ],
   "source": [
    "trump.columns"
   ]
  },
  {
   "cell_type": "markdown",
   "metadata": {},
   "source": [
    "## Data analysis"
   ]
  },
  {
   "cell_type": "code",
   "execution_count": 6,
   "metadata": {},
   "outputs": [
    {
     "name": "stdout",
     "output_type": "stream",
     "text": [
      "2009-05-04 18:54:25\n",
      "2019-11-11 23:58:14\n"
     ]
    }
   ],
   "source": [
    "# dates covered by the dataset\n",
    "print(trump.timestamp.min())\n",
    "print(trump.timestamp.max())"
   ]
  },
  {
   "cell_type": "code",
   "execution_count": 7,
   "metadata": {},
   "outputs": [],
   "source": [
    "#Make text for twitter lowercase to search for matching expressions\n",
    "trump['text_lower'] = trump.text.str.lower()\n"
   ]
  },
  {
   "cell_type": "markdown",
   "metadata": {},
   "source": [
    "#### Function to count all fake news expressions"
   ]
  },
  {
   "cell_type": "code",
   "execution_count": 122,
   "metadata": {},
   "outputs": [],
   "source": [
    "\n",
    "def fake_news_mentions(data, expressions = []):\n",
    "    #find patterns\n",
    "    for i in expressions:\n",
    "        data[i] = pd.Series(data.text_lower.str.contains(pat = i))\n",
    "\n",
    "    # Convert True/False values to 0/1\n",
    "    data[expressions] = data[expressions].astype('int32')\n",
    "        \n",
    "    # Create column with total fake_news\n",
    "    data['fake_news_mention'] = data[expressions].sum(axis=1)\n",
    "    print('\\nTotal fake_news labels: {}'.format(len(data[data['fake_news_mention'] > 0])))\n",
    "    \n",
    "    # Print value counts for expressions\n",
    "    for i in expressions:\n",
    "        print(data[i].value_counts())\n"
   ]
  },
  {
   "cell_type": "code",
   "execution_count": 147,
   "metadata": {},
   "outputs": [
    {
     "name": "stdout",
     "output_type": "stream",
     "text": [
      "\n",
      "Total fake_news labels: 531\n",
      "0    37885\n",
      "1      512\n",
      "Name: fake news, dtype: int64\n",
      "0    38396\n",
      "1        1\n",
      "Name: false news, dtype: int64\n",
      "0    38379\n",
      "1       18\n",
      "Name: fake media, dtype: int64\n",
      "0    38397\n",
      "Name: falsenews, dtype: int64\n",
      "0    38397\n",
      "Name: fakemedia, dtype: int64\n"
     ]
    }
   ],
   "source": [
    "columns = ['fake news', 'false news', 'fake media', 'falsenews', 'fakemedia']\n",
    "fake_news_mentions(trump, columns)"
   ]
  },
  {
   "cell_type": "markdown",
   "metadata": {},
   "source": [
    "#### Function to aggregate tweets by day, vis & basic summary"
   ]
  },
  {
   "cell_type": "code",
   "execution_count": 155,
   "metadata": {},
   "outputs": [],
   "source": [
    "\n",
    "def aggregate_tweets_day(data, new_df = ''):\n",
    "    d = {'timestamp':'tweets_per_day'}\n",
    "    new_df = data.groupby(data.timestamp.dt.date).\\\n",
    "    agg({'timestamp':'count', 'fake_news_mention':'sum'}).rename(columns=d)\n",
    "    \n",
    "    fake_news = new_df[new_df['fake_news_mention'] > 0]\n",
    "    fake_news.plot(style='o')\n",
    "    \n",
    "    print('First Trump tweet mentioning fake news: {}'.format(fake_news.index.min()))\n",
    "    print('Last Trump tweet mentioning fake news: {}'.format(fake_news.index.max()))\n",
    "    print('Total tweets from Trump mentioning fake news: {}'.format(fake_news.fake_news_mention.sum()))\n",
    "    \n",
    "    "
   ]
  },
  {
   "cell_type": "code",
   "execution_count": 156,
   "metadata": {},
   "outputs": [
    {
     "name": "stdout",
     "output_type": "stream",
     "text": [
      "First Trump tweet mentioning fake news: 2016-11-16\n",
      "Last Trump tweet mentioning fake news: 2019-11-11\n",
      "Total tweets from Trump mentioning fake news: 531\n"
     ]
    },
    {
     "data": {
      "image/png": "[encoded data removed]",
      "text/plain": [
       "<Figure size 1440x864 with 1 Axes>"
      ]
     },
     "metadata": {
      "needs_background": "light"
     },
     "output_type": "display_data"
    }
   ],
   "source": [
    "aggregate_tweets_day(trump, trump_days)"
   ]
  },
  {
   "cell_type": "code",
   "execution_count": null,
   "metadata": {},
   "outputs": [],
   "source": [
    "# Frequency Trump mentiones 'fake news' in his tweets\n",
    "res = (pd.Series(fake_news.index[1:]) - pd.Series(fake_news.index[:-1])).value_counts()\n",
    "print('Average frequency for tweets mentioning fake news is: {} days '.format(res.mean()))"
   ]
  },
  {
   "cell_type": "code",
   "execution_count": null,
   "metadata": {},
   "outputs": [],
   "source": [
    "plt.boxplot(res)"
   ]
  },
  {
   "cell_type": "code",
   "execution_count": null,
   "metadata": {},
   "outputs": [],
   "source": [
    "plt.plot(trump_days.index, trump_days.label, 'o', alpha = 0.3);"
   ]
  },
  {
   "cell_type": "code",
   "execution_count": null,
   "metadata": {},
   "outputs": [],
   "source": [
    "plt.plot(fake_news.index, fake_news.days, 'o', alpha = 0.3);\t"
   ]
  },
  {
   "cell_type": "code",
   "execution_count": null,
   "metadata": {},
   "outputs": [],
   "source": []
  }
 ],
 "metadata": {
  "kernelspec": {
   "display_name": "Python 3",
   "language": "python",
   "name": "python3"
  },
  "language_info": {
   "codemirror_mode": {
    "name": "ipython",
    "version": 3
   },
   "file_extension": ".py",
   "mimetype": "text/x-python",
   "name": "python",
   "nbconvert_exporter": "python",
   "pygments_lexer": "ipython3",
   "version": "3.7.0"
  }
 },
 "nbformat": 4,
 "nbformat_minor": 2
}
