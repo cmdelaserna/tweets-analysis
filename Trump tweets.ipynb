{
 "cells": [
  {
   "cell_type": "code",
   "execution_count": 1,
   "metadata": {},
   "outputs": [],
   "source": [
    "import pandas as pd\n",
    "import matplotlib.pyplot as plt\n",
    "import numpy as np\n",
    "import seaborn as sns"
   ]
  },
  {
   "cell_type": "code",
   "execution_count": 2,
   "metadata": {},
   "outputs": [],
   "source": [
    "trump = pd.read_json('data/trump.json')"
   ]
  },
  {
   "cell_type": "code",
   "execution_count": 3,
   "metadata": {},
   "outputs": [
    {
     "data": {
      "text/plain": [
       "(38397, 21)"
      ]
     },
     "execution_count": 3,
     "metadata": {},
     "output_type": "execute_result"
    }
   ],
   "source": [
    "trump.shape"
   ]
  },
  {
   "cell_type": "markdown",
   "metadata": {},
   "source": [
    "## Data formatting"
   ]
  },
  {
   "cell_type": "code",
   "execution_count": 4,
   "metadata": {},
   "outputs": [
    {
     "name": "stdout",
     "output_type": "stream",
     "text": [
      "2009-05-04 18:54:25\n",
      "2019-11-11 23:58:14\n"
     ]
    }
   ],
   "source": [
    "# dates covered by the dataset\n",
    "print(trump.timestamp.min())\n",
    "print(trump.timestamp.max())"
   ]
  },
  {
   "cell_type": "code",
   "execution_count": 5,
   "metadata": {},
   "outputs": [],
   "source": [
    "trump['text_lower'] = trump.text.str.lower()"
   ]
  },
  {
   "cell_type": "code",
   "execution_count": 6,
   "metadata": {},
   "outputs": [],
   "source": [
    "#Turn into a function to catch all cases\n",
    "# Create a column based on fake_news talk\n",
    "trump['fake_news'] = pd.Series(trump.text_lower.str.contains(pat = \"fake news\")\\\n",
    "    | pd.Series(trump.text_lower).str.contains(pat = \"#fakenews\")\\\n",
    "    | pd.Series(trump.text_lower).str.contains(pat = \"fake media\")\n",
    "    | pd.Series(trump.text_lower).str.contains(pat = \"#fakemedia\"))\n"
   ]
  },
  {
   "cell_type": "code",
   "execution_count": 7,
   "metadata": {},
   "outputs": [
    {
     "data": {
      "text/plain": [
       "False    37852\n",
       "True       545\n",
       "Name: fake_news, dtype: int64"
      ]
     },
     "execution_count": 7,
     "metadata": {},
     "output_type": "execute_result"
    }
   ],
   "source": [
    "trump.fake_news.value_counts()"
   ]
  },
  {
   "cell_type": "markdown",
   "metadata": {},
   "source": [
    "## Data Analysis"
   ]
  },
  {
   "cell_type": "code",
   "execution_count": 8,
   "metadata": {},
   "outputs": [],
   "source": [
    "# Aggregate tweets by days\n",
    "\n",
    "d = {'timestamp':'days'}\n",
    "\n",
    "trump_days = trump.groupby(trump.timestamp.dt.date)./\n",
    "    agg({'timestamp':'count', 'fake_news':'sum'}).rename(columns=d)\n",
    "\n",
    "trump_days['fake_news'] = trump_days['fake_news'].astype('int32')"
   ]
  },
  {
   "cell_type": "code",
   "execution_count": 9,
   "metadata": {},
   "outputs": [],
   "source": [
    "# Add True/False column based on fake_news\n",
    "\n",
    "trump_days['label'] = np.where(trump_days['fake_news']>=1, 'yes', 'no')\n",
    "\n",
    "fake_news = trump_days[trump_days['label'] == 'yes']"
   ]
  },
  {
   "cell_type": "code",
   "execution_count": 10,
   "metadata": {},
   "outputs": [
    {
     "name": "stdout",
     "output_type": "stream",
     "text": [
      "no     2703\n",
      "yes     371\n",
      "Name: label, dtype: int64\n",
      "545\n"
     ]
    }
   ],
   "source": [
    "print(trump_days.label.value_counts())\n",
    "print(trump_days.fake_news.sum())\n"
   ]
  },
  {
   "cell_type": "code",
   "execution_count": 11,
   "metadata": {},
   "outputs": [
    {
     "name": "stdout",
     "output_type": "stream",
     "text": [
      "First Trump tweet mentioning fake news: 2016-12-10\n",
      "Last Trump tweet mentioning fake news: 2019-11-11\n",
      "Total tweets from Trump mentioning fake news: 545\n"
     ]
    }
   ],
   "source": [
    "print('First Trump tweet mentioning fake news: {}'.format(fake_news.index.min()))\n",
    "print('Last Trump tweet mentioning fake news: {}'.format(fake_news.index.max()))\n",
    "print('Total tweets from Trump mentioning fake news: {}'.format(fake_news.fake_news.sum()))"
   ]
  },
  {
   "cell_type": "code",
   "execution_count": 12,
   "metadata": {},
   "outputs": [
    {
     "data": {
      "text/plain": [
       "21.764705882352942"
      ]
     },
     "execution_count": 12,
     "metadata": {},
     "output_type": "execute_result"
    }
   ],
   "source": [
    "# Frequency Trump mentiones 'fake news' in his tweets\n",
    "res = (pd.Series(fake_news.index[1:]) - pd.Series(fake_news.index[:-1])).value_counts()\n",
    "res.mean()"
   ]
  },
  {
   "cell_type": "code",
   "execution_count": 13,
   "metadata": {},
   "outputs": [
    {
     "data": {
      "text/plain": [
       "{'whiskers': [<matplotlib.lines.Line2D at 0x11c05fc18>,\n",
       "  <matplotlib.lines.Line2D at 0x11c05ff60>],\n",
       " 'caps': [<matplotlib.lines.Line2D at 0x11c05ff98>,\n",
       "  <matplotlib.lines.Line2D at 0x11c0a06d8>],\n",
       " 'boxes': [<matplotlib.lines.Line2D at 0x11c05f710>],\n",
       " 'medians': [<matplotlib.lines.Line2D at 0x11c0a0a58>],\n",
       " 'fliers': [<matplotlib.lines.Line2D at 0x11c0a0da0>],\n",
       " 'means': []}"
      ]
     },
     "execution_count": 13,
     "metadata": {},
     "output_type": "execute_result"
    },
    {
     "data": {
      "image/png": "[encoded data removed]",
      "text/plain": [
       "<Figure size 432x288 with 1 Axes>"
      ]
     },
     "metadata": {
      "needs_background": "light"
     },
     "output_type": "display_data"
    }
   ],
   "source": [
    "plt.boxplot(res)"
   ]
  },
  {
   "cell_type": "code",
   "execution_count": 14,
   "metadata": {},
   "outputs": [
    {
     "name": "stderr",
     "output_type": "stream",
     "text": [
      "/Users/cmserna/Sites/virtualenvs/twitter-scraper/lib/python3.7/site-packages/pandas/plotting/_matplotlib/converter.py:103: FutureWarning: Using an implicitly registered datetime converter for a matplotlib plotting method. The converter was registered by pandas on import. Future versions of pandas will require you to explicitly register matplotlib converters.\n",
      "\n",
      "To register the converters:\n",
      "\t>>> from pandas.plotting import register_matplotlib_converters\n",
      "\t>>> register_matplotlib_converters()\n",
      "  warnings.warn(msg, FutureWarning)\n"
     ]
    },
    {
     "data": {
      "image/png": "[encoded data removed]",
      "text/plain": [
       "<Figure size 432x288 with 1 Axes>"
      ]
     },
     "metadata": {
      "needs_background": "light"
     },
     "output_type": "display_data"
    }
   ],
   "source": [
    "plt.plot(trump_days.index, trump_days.label, 'o', alpha = 0.3);"
   ]
  },
  {
   "cell_type": "code",
   "execution_count": 15,
   "metadata": {},
   "outputs": [
    {
     "data": {
      "image/png": "[encoded data removed]",
      "text/plain": [
       "<Figure size 432x288 with 1 Axes>"
      ]
     },
     "metadata": {
      "needs_background": "light"
     },
     "output_type": "display_data"
    }
   ],
   "source": [
    "plt.plot(fake_news.index, fake_news.days, 'o', alpha = 0.3);\t"
   ]
  },
  {
   "cell_type": "code",
   "execution_count": null,
   "metadata": {},
   "outputs": [],
   "source": []
  }
 ],
 "metadata": {
  "kernelspec": {
   "display_name": "Python 3",
   "language": "python",
   "name": "python3"
  },
  "language_info": {
   "codemirror_mode": {
    "name": "ipython",
    "version": 3
   },
   "file_extension": ".py",
   "mimetype": "text/x-python",
   "name": "python",
   "nbconvert_exporter": "python",
   "pygments_lexer": "ipython3",
   "version": "3.7.0"
  }
 },
 "nbformat": 4,
 "nbformat_minor": 2
}
